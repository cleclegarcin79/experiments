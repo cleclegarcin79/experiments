{
 "cells": [
  {
   "cell_type": "markdown",
   "metadata": {},
   "source": [
    "# TP1: "
   ]
  },
  {
   "cell_type": "markdown",
   "metadata": {},
   "source": [
    "Le but de ce TP1 est d'acquérir les bases nécessaires à la compréhension des réseaux de neurones à partir d'un modèle simple de type Softmax. La tâche d'apprentissage consiste à classifier les images (28 par 28 pixels) de la base MNIST (http://yann.lecun.com/exdb/mnist/) en 10 catégories représentant les chiffres 0-9.\n",
    "\n",
    "Le TP2 consistera à généraliser les concepts de ce TP1 à un réseau de neurones multi-couches."
   ]
  },
  {
   "cell_type": "markdown",
   "metadata": {},
   "source": [
    "## Téléchargement de la base d'entraînement"
   ]
  },
  {
   "cell_type": "code",
   "execution_count": 1,
   "metadata": {
    "collapsed": true
   },
   "outputs": [],
   "source": [
    "%matplotlib inline\n",
    "import os\n",
    "import numpy as np\n",
    "import matplotlib.pyplot as plt\n",
    "\n",
    "if(\"mnist.pkl.gz\" not in os.listdir(\".\")):\n",
    "    !wget http://deeplearning.net/data/mnist/mnist.pkl.gz"
   ]
  },
  {
   "cell_type": "markdown",
   "metadata": {},
   "source": [
    "## Chargement de la base en mémoire"
   ]
  },
  {
   "cell_type": "code",
   "execution_count": 2,
   "metadata": {
    "collapsed": true
   },
   "outputs": [],
   "source": [
    "import dataset_loader\n",
    "train_set, valid_set, test_set = dataset_loader.load_mnist()"
   ]
  },
  {
   "cell_type": "markdown",
   "metadata": {},
   "source": [
    "Vous pouvez visualiser les différents caractères en changeant l'identifiant de l'image"
   ]
  },
  {
   "cell_type": "code",
   "execution_count": 3,
   "metadata": {
    "collapsed": false
   },
   "outputs": [
    {
     "name": "stdout",
     "output_type": "stream",
     "text": [
      "label: 3\n"
     ]
    },
    {
     "data": {
      "image/png": "[encoded data removed]",
      "text/plain": [
       "<matplotlib.figure.Figure at 0x7fecc7348ed0>"
      ]
     },
     "metadata": {},
     "output_type": "display_data"
    }
   ],
   "source": [
    "img_id = 900\n",
    "plt.imshow(train_set[0][img_id].reshape(28,28),cmap='Greys')\n",
    "print(\"label: \" + str(train_set[1][img_id]))"
   ]
  },
  {
   "cell_type": "markdown",
   "metadata": {},
   "source": [
    "Question 1: Donner les caractéristiques de la base d'apprentissage train_set"
   ]
  },
  {
   "cell_type": "code",
   "execution_count": 4,
   "metadata": {
    "collapsed": true
   },
   "outputs": [],
   "source": [
    "def getDimDataset(train_set):\n",
    "    n_training = len(train_set[1])\n",
    "    n_feature = len(train_set[0][1])\n",
    "    n_label = len(np.unique(train_set[1]))\n",
    "    return n_training, n_feature, n_label"
   ]
  },
  {
   "cell_type": "code",
   "execution_count": 5,
   "metadata": {
    "collapsed": false
   },
   "outputs": [
    {
     "data": {
      "text/plain": [
       "(50000, 784, 10)"
      ]
     },
     "execution_count": 5,
     "metadata": {},
     "output_type": "execute_result"
    }
   ],
   "source": [
    "getDimDataset(train_set)"
   ]
  },
  {
   "cell_type": "markdown",
   "metadata": {},
   "source": [
    "## Création du modèle"
   ]
  },
  {
   "cell_type": "code",
   "execution_count": 6,
   "metadata": {
    "collapsed": true
   },
   "outputs": [],
   "source": [
    "def init(n_feature,n_label):\n",
    "    sigma = 1.\n",
    "    W = np.random.normal(loc=0.0, scale=sigma/np.sqrt(n_feature), size=(n_label,n_feature))\n",
    "    b = np.zeros((W.shape[0],1))\n",
    "    return W,b"
   ]
  },
  {
   "cell_type": "markdown",
   "metadata": {},
   "source": [
    "Question 2: Donner les dimensions de W et b ainsi que le nombre total de paramètres du modèle"
   ]
  },
  {
   "cell_type": "code",
   "execution_count": 7,
   "metadata": {
    "collapsed": false
   },
   "outputs": [],
   "source": [
    "def printInfo(W,b):\n",
    "    print(\"W dimensions: \" , W.shape[0], W.shape[1])\n",
    "    print(\"b dimensions: \" , b.shape[0], b.shape[1])\n",
    "    print(\"Number of parameters: \" , W.shape[1]*W.shape[0]+b.shape[0])"
   ]
  },
  {
   "cell_type": "code",
   "execution_count": 8,
   "metadata": {
    "collapsed": false
   },
   "outputs": [
    {
     "name": "stdout",
     "output_type": "stream",
     "text": [
      "('W dimensions: ', 10, 784)\n",
      "('b dimensions: ', 10, 1)\n",
      "('Number of parameters: ', 7850)\n"
     ]
    }
   ],
   "source": [
    "n_training, n_feature, n_label = getDimDataset(train_set)\n",
    "W,b = init(n_feature,n_label)\n",
    "printInfo(W,b)"
   ]
  },
  {
   "cell_type": "markdown",
   "metadata": {},
   "source": [
    "Question 3: Implémenter la fonction forward $$z_j = \\sum_{i \\rightarrow j} W_{ij} x_i + b_j$$ où $x_i$ est un pixel de l'image, $W_{ij}$ est la valeur associée à l'arête reliant les unités $i$ et $j$ et $b_j$ est le bias associé à l'unité $j$"
   ]
  },
  {
   "cell_type": "code",
   "execution_count": 9,
   "metadata": {
    "collapsed": true
   },
   "outputs": [],
   "source": [
    "def forward(W,b,X):\n",
    "    \"\"\"\n",
    "        Perform the forward propagation\n",
    "        :param W: the weights\n",
    "        :param b: the bias\n",
    "        :param X: the input (minibatch_size x n_input)\n",
    "        :type W: ndarray\n",
    "        :type B: ndarray\n",
    "        :type X: ndarray\n",
    "        :return: the transformed values\n",
    "        :rtype: ndarray\n",
    "    \"\"\"\n",
    "    z = W.dot(X.T) + b\n",
    "    return z"
   ]
  },
  {
   "cell_type": "markdown",
   "metadata": {},
   "source": [
    "Question 4: Implémenter la fonction softmax $$ \\sigma_i = P(t=i|x,W,b) = \\frac{\\exp{z_i}}{\\sum_k \\exp{z_k}}$$"
   ]
  },
  {
   "cell_type": "code",
   "execution_count": 10,
   "metadata": {
    "collapsed": true
   },
   "outputs": [],
   "source": [
    "def softmax(z):\n",
    "    \"\"\"\n",
    "        Perform the softmax transformation to the pre-activation values\n",
    "        :param z: the pre-activation values\n",
    "        :type z: ndarray\n",
    "        :return: the activation values\n",
    "        :rtype: ndarray\n",
    "    \"\"\"\n",
    "    return np.exp(z-np.max(z))/np.sum(np.exp(z-np.max(z)))"
   ]
  },
  {
   "cell_type": "markdown",
   "metadata": {},
   "source": [
    "Optionnel: Vérifier que votre implémentation de softmax soit numériquement stable (cf. http://ufldl.stanford.edu/wiki/index.php/Exercise:Softmax_Regression)"
   ]
  },
  {
   "cell_type": "code",
   "execution_count": 11,
   "metadata": {
    "collapsed": false
   },
   "outputs": [
    {
     "name": "stdout",
     "output_type": "stream",
     "text": [
      "[ 1.  0.  0.]\n"
     ]
    }
   ],
   "source": [
    "# Example for testing the numerical stability of softmax\n",
    "# It should return [1., 0. ,0.], not [nan, 0., 0.]\n",
    "z = [1000000.0,1.0,100.0]\n",
    "print(softmax(z))"
   ]
  },
  {
   "cell_type": "markdown",
   "metadata": {},
   "source": [
    "Question 5: Implémenter le calcul du gradient de l'erreur par rapport à $z_i$:\n",
    "$$\\delta z_i = \\sigma_i - 1_{i=l}$$\n",
    "où $l$ est l'étiquette associée à la donnée courante."
   ]
  },
  {
   "cell_type": "code",
   "execution_count": 12,
   "metadata": {
    "collapsed": true
   },
   "outputs": [],
   "source": [
    "def gradient_out(out, one_hot_batch):\n",
    "    \"\"\"\n",
    "    compute the gradient w.r.t. the pre-activation values of the softmax z_i\n",
    "    :param out: the softmax values\n",
    "    :type out: ndarray\n",
    "    :param one_hot_batch: the one-hot representation of the labels\n",
    "    :type one_hot_batch: ndarray\n",
    "    :return: the gradient w.r.t. z\n",
    "    :rtype: ndarray\n",
    "    \"\"\"\n",
    "    return out - one_hot_batch"
   ]
  },
  {
   "cell_type": "markdown",
   "metadata": {},
   "source": [
    "Question 6: Implémenter la fonction du calcul de gradient par rapport aux paramètres: $$\\delta W_{ij} = \\delta z_j x_i$$  $$\\delta b_{j} = \\delta z_j$$ où $\\delta W_{ij}$ est la composante du gradient associée à l'arête reliant les unités $i$ et $j$, $\\delta b_{j}$ est la composante du gradient associée au bias de l'unité $j$, $\\delta z_j$ est le gradient de l'erreur par rapport à l'unité $j$ et $x_i$ est la valeur d'activation de l'unité $i$."
   ]
  },
  {
   "cell_type": "code",
   "execution_count": 13,
   "metadata": {
    "collapsed": true
   },
   "outputs": [],
   "source": [
    "def gradient(derror, X):\n",
    "    \"\"\"\n",
    "        Compute the gradient w.r.t. the parameters\n",
    "        :param derror: the gradient w.r.t. z\n",
    "        :param X: the input (minibatch_size x n_input)\n",
    "        :param minibatch_size: the minibatch size\n",
    "        :type derror: ndarray\n",
    "        :type minibatch: ndarray\n",
    "        :type minibatch_size: unsigned\n",
    "        :return: the gradient w.r.t. the parameters\n",
    "        :rtype: ndarray, ndarray\n",
    "    \"\"\"    \n",
    "    grad_w = derror.dot(X)/float(len(X))\n",
    "    grad_b = np.sum(derror)/float(len(X))\n",
    "    return grad_w,grad_b"
   ]
  },
  {
   "cell_type": "markdown",
   "metadata": {},
   "source": [
    "Question 7: Implémenter la fonction de mise à jour des paramètres $$p = p - \\eta \\delta p$$ où $p$ est un paramètre du modèle et $\\delta p$ la composante du gradient associée à p."
   ]
  },
  {
   "cell_type": "code",
   "execution_count": 14,
   "metadata": {
    "collapsed": true
   },
   "outputs": [],
   "source": [
    "def update(eta, W, b, grad_w, grad_b):\n",
    "    \"\"\"\n",
    "        Update the parameters with an update rule\n",
    "        :param eta: the step-size\n",
    "        :param W: the weights\n",
    "        :param b: the bias\n",
    "        :param grad_w: the gradient w.r.t. the weights\n",
    "        :param grad_b: the gradient w.r.t. the bias\n",
    "        :type eta: float\n",
    "        :type W: ndarray\n",
    "        :type b: ndarray\n",
    "        :type grad_w: ndarray\n",
    "        :type grad_b: ndarray\n",
    "        :return: the updated parameters\n",
    "        :rtype: ndarray, ndarray\n",
    "    \"\"\"\n",
    "    W = W - eta * grad_w\n",
    "    b = b - eta * grad_b\n",
    "    return W, b"
   ]
  },
  {
   "cell_type": "markdown",
   "metadata": {},
   "source": [
    "Question 8: Implémenter la fonction de calcul du coût et de la précision:\n",
    "Utiliser les fonction *forward* et *softmax*, puis calculer le coût $c$, qui est moins la log-probabilité des classes à prédire: $$c = - \\sum_{(x_{i}, y_{i}) \\in \\mathcal{D}} \\log P(y=y_{i}|x_{i},W,b)$$\n",
    "\n",
    "Et enfin la précision, c'est à dire le taux de prédictions réussies."
   ]
  },
  {
   "cell_type": "code",
   "execution_count": 101,
   "metadata": {
    "collapsed": true
   },
   "outputs": [],
   "source": [
    "def computeLoss(W, b, batch, labels, softmax):\n",
    "    \"\"\"\n",
    "        Compute the loss value of the current network on the full batch\n",
    "        :param W: the weights\n",
    "        :param B: the bias\n",
    "        :param batch: the weights\n",
    "        :param labels: label\n",
    "        :param act_func: the weights\n",
    "        :type W: ndarray\n",
    "        :type B: ndarray\n",
    "        :type batch: ndarray\n",
    "        :type act_func: function\n",
    "        :return loss: the negative log-likelihood\n",
    "        :return accuracy: the ratio of examples that are well-classified\n",
    "        :rtype: float\n",
    "        :rtype: float\n",
    "    \"\"\" \n",
    "    ### Forward propagation\n",
    "    ### Compute the softmax\n",
    "    z = softmax(forward(W,b,batch))\n",
    "    \n",
    "    loss = - np.sum(np.log(z[labels , range(batch.shape[0])]))\n",
    "    \n",
    "    summ=0\n",
    "    for j in range(len(labels)):\n",
    "        summ+=z.T[j,labels[j]]\n",
    "        \n",
    "    accuracy = np.sum(labels == np.argmax(z, axis=0))/float(len(labels))\n",
    "    return summ, accuracy"
   ]
  },
  {
   "cell_type": "markdown",
   "metadata": {},
   "source": [
    "Question 9: Implémenter la fonction de création de mini-batch, qui pour un indice, une taille de batch, des données d'entraînement et les labels correspondants, renvoie le batch de données/labels correspondant, et la taille du batch. "
   ]
  },
  {
   "cell_type": "code",
   "execution_count": 102,
   "metadata": {
    "collapsed": true
   },
   "outputs": [],
   "source": [
    "def getMiniBatch(i, batch_size, train_set, one_hot):\n",
    "    \"\"\"\n",
    "        Return a minibatch from the training set and the associated labels\n",
    "        :param i: the identifier of the minibatch\n",
    "        :param batch_size: the number of training examples\n",
    "        :param train_set: the training set\n",
    "        :param one_hot: the one-hot representation of the labels\n",
    "        :type i: int\n",
    "        :type batch_size: int\n",
    "        :type train_set: ndarray\n",
    "        :type ont_hot: ndarray\n",
    "        :return: the minibatch of examples\n",
    "        :return: the minibatch of labels\n",
    "        :return: the number of examples in the minibatch\n",
    "        :rtype: ndarray\n",
    "        :rtype: ndarray\n",
    "        :rtype: int\n",
    "    \"\"\"\n",
    "    n_training = train_set[0].shape[0]\n",
    "    idx_begin = i * batch_size\n",
    "    idx_end = (i+1) * batch_size\n",
    "    mini_batch_size = batch_size\n",
    "\n",
    "    batch = train_set[0][idx_begin:idx_end]\n",
    "    one_hot_batch = one_hot[:, idx_begin:idx_end]\n",
    "\n",
    "    return np.asfortranarray(batch), one_hot_batch, mini_batch_size"
   ]
  },
  {
   "cell_type": "markdown",
   "metadata": {},
   "source": [
    "## Algorithme d'apprentissage"
   ]
  },
  {
   "cell_type": "code",
   "execution_count": 103,
   "metadata": {
    "collapsed": false
   },
   "outputs": [
    {
     "name": "stdout",
     "output_type": "stream",
     "text": [
      "('W dimensions: ', 10, 784)\n",
      "('b dimensions: ', 10, 1)\n",
      "('Number of parameters: ', 7850)\n",
      "0 0.752807000001 0.108986831835 0.16532 0.108521475366 0.1595 0.001\n",
      "1 1.259696 0.122218689032 0.24904 0.121937796672 0.2497 0.001\n",
      "2 1.764093 0.138211353694 0.34378 0.137937554699 0.3492 0.001\n",
      "3 2.270447 0.157752352996 0.41014 0.157161319507 0.4171 0.001\n",
      "4 2.7744 0.181839053438 0.45306 0.180387556265 0.4623 0.001\n",
      "5 3.289345 0.211671874137 0.48088 0.208510920484 0.4919 0.001\n",
      "6 3.862133 0.24856990664 0.5019 0.242462682465 0.515 0.001\n",
      "7 4.538407 0.293750435029 0.51888 0.283041579191 0.5326 0.001\n",
      "8 5.199487 0.34792964644 0.53398 0.330641638255 0.5474 0.001\n",
      "9 6.178305 0.410788308464 0.54606 0.384921163614 0.5599 0.001\n",
      "10 6.789368 0.480510194937 0.55686 0.444545989425 0.5732 0.001\n",
      "11 7.306619 0.553733694973 0.56674 0.507193794777 0.5837 0.001\n",
      "12 7.811557 0.626149595412 0.57524 0.569928038454 0.5921 0.001\n",
      "13 8.317855 0.693576427299 0.58254 0.629836843898 0.6003 0.001\n",
      "14 8.92831100001 0.75297325998 0.58832 0.684648500874 0.6088 0.001\n",
      "15 10.371053 0.802904036209 0.59426 0.7330588014 0.6133 0.001\n",
      "16 11.517151 0.843381931089 0.59978 0.774706871775 0.6198 0.001\n",
      "17 12.62707 0.875369254353 0.60454 0.80992303898 0.6257 0.001\n",
      "18 13.338167 0.900252646995 0.6092 0.83942083234 0.6299 0.001\n",
      "19 14.454006 0.919466661378 0.61324 0.864046787142 0.6338 0.001\n",
      "20 15.536838 0.934291288391 0.61642 0.884623699718 0.638 0.001\n",
      "21 16.808617 0.945778033825 0.62024 0.901874856671 0.6418 0.001\n",
      "22 17.333485 0.95474896369 0.62336 0.916401501762 0.6462 0.001\n",
      "23 17.845507 0.961827848589 0.62604 0.928688636217 0.6504 0.001\n",
      "24 18.679912 0.967479918391 0.62906 0.939122449796 0.6529 0.001\n",
      "25 19.198757 0.972049174283 0.63162 0.948010103618 0.6556 0.001\n",
      "26 19.723335 0.975789310524 0.63438 0.955597585622 0.6577 0.001\n",
      "27 20.302124 0.978887737803 0.63614 0.962084199147 0.6614 0.001\n",
      "28 20.807955 0.981483575006 0.63842 0.967633638338 0.6637 0.001\n",
      "29 21.384219 0.983680840081 0.6402 0.972382165859 0.6656 0.001\n",
      "30 21.89038 0.98555800661 0.6419 0.976444545974 0.6671 0.001\n",
      "31 22.401276 0.987174887133 0.64324 0.979918334622 0.6696 0.001\n",
      "32 22.907128 0.988577582457 0.64456 0.982887011226 0.6714 0.001\n",
      "33 23.413067 0.989802044517 0.64594 0.985422313345 0.6734 0.001\n",
      "34 24.413048 0.990876649557 0.64736 0.987586028988 0.6748 0.001\n",
      "35 24.941171 0.991824065551 0.64842 0.989431419125 0.6758 0.001\n",
      "36 25.529297 0.992662615662 0.6495 0.991004383463 0.6774 0.001\n",
      "37 26.253252 0.99340728076 0.65056 0.992344441797 0.6789 0.001\n",
      "38 27.164371 0.99407044233 0.65154 0.993485576564 0.6802 0.001\n",
      "39 28.425122 0.994662437667 0.65278 0.994456965411 0.6815 0.001\n",
      "40 28.943589 0.995191978547 0.65354 0.995283622449 0.6821 0.001\n",
      "41 29.450997 0.99566646992 0.65428 0.995986960954 0.6828 0.001\n",
      "42 29.976225 0.996092254881 0.65502 0.996585286929 0.6831 0.001\n",
      "43 30.482309 0.996474804853 0.65558 0.997094231096 0.6842 0.001\n",
      "44 30.988288 0.996818868724 0.65624 0.997527125854 0.6857 0.001\n",
      "45 31.59199 0.997128590988 0.65684 0.997895333089 0.6868 0.001\n",
      "46 32.293307 0.997407606254 0.65752 0.998208528258 0.6871 0.001\n",
      "47 33.212421 0.997659115609 0.65806 0.998474945782 0.6874 0.001\n",
      "48 34.233815 0.997885948884 0.6587 0.998701590374 0.688 0.001\n",
      "49 35.03353 0.998090615911 0.65922 0.998894418559 0.6887 0.001\n",
      "50 35.561803 0.998275349066 0.65974 0.999058494214 0.6893 0.001\n",
      "51 36.588659 0.998442138887 0.66036 0.999198121597 0.6895 0.001\n",
      "52 37.587492 0.998592764111 0.66088 0.999316958925 0.6905 0.001\n",
      "53 38.40468 0.998728817195 0.66152 0.999418115213 0.6903 0.001\n",
      "54 38.936011 0.998851726143 0.66196 0.999504232749 0.6908 0.001\n",
      "55 39.589771 0.998962773293 0.66246 0.999577557265 0.6914 0.001\n",
      "56 40.09634 0.999063111565 0.66316 0.999639997618 0.6914 0.001\n",
      "57 40.60133 0.999153778612 0.6635 0.99969317649 0.6919 0.001\n",
      "58 41.109062 0.999235709171 0.6639 0.999738473469 0.6925 0.001\n",
      "59 41.62296 0.999309745917 0.66424 0.999777061638 0.6928 0.001\n",
      "60 42.126507 0.99937664902 0.66478 0.999809938632 0.6932 0.001\n",
      "61 42.630034 0.999437104597 0.66518 0.999837953018 0.6941 0.001\n",
      "62 43.134711 0.999491732215 0.66556 0.999861826685 0.6947 0.001\n",
      "63 43.637217 0.999541091551 0.666 0.999882173856 0.6952 0.001\n",
      "64 44.153614 0.999585688345 0.66634 0.999899517234 0.6956 0.001\n",
      "65 44.657126 0.999625979712 0.66664 0.999914301712 0.6958 0.001\n",
      "66 45.161581 0.9996623789 0.66686 0.999926906012 0.6962 0.001\n",
      "67 45.668684 0.999695259557 0.667 0.999937652583 0.6969 0.001\n",
      "68 46.171623 0.999724959567 0.66726 0.999946815999 0.6972 0.001\n",
      "69 46.679206 0.999751784496 0.66732 0.999954630105 0.6973 0.001\n",
      "70 47.182563 0.999776010697 0.66762 0.999961294085 0.6974 0.001\n",
      "71 47.685998 0.99979788811 0.66786 0.999966977622 0.6973 0.001\n",
      "72 48.189743 0.99981764279 0.66796 0.999971825286 0.6974 0.001\n",
      "73 48.694737 0.999835479179 0.66826 0.999975960268 0.6978 0.001\n",
      "74 49.197621 0.999851582175 0.66846 0.999979487551 0.6978 0.001\n",
      "75 49.968996 0.999866118986 0.66862 0.999982496612 0.698 0.001\n",
      "76 50.533972 0.999879240816 0.6688 0.999985063722 0.6982 0.001\n",
      "77 51.091662 0.999891084388 0.66898 0.999987253898 0.6985 0.001\n",
      "78 51.858291 0.999901773321 0.66918 0.999989122573 0.6987 0.001\n",
      "79 52.634763 0.999911419377 0.66938 0.999990717009 0.6988 0.001\n",
      "80 53.345923 0.999920123586 0.66934 0.999992077508 0.6986 0.001\n",
      "81 54.064032 0.999927977273 0.66964 0.999993238437 0.6989 0.001\n",
      "82 54.774339 0.999935062979 0.66984 0.999994229107 0.6994 0.001\n",
      "83 55.667944 0.9999414553 0.66978 0.999995074515 0.6997 0.001\n",
      "84 56.748915 0.999947221644 0.67006 0.999995795984 0.6999 0.001\n",
      "85 57.54362 0.999952422916 0.67022 0.999996411702 0.7001 0.001\n",
      "86 58.324728 0.999957114145 0.67042 0.999996937184 0.7004 0.001\n",
      "87 58.831126 0.999961345039 0.6706 0.999997385666 0.7004 0.001\n",
      "88 59.336581 0.999965160498 0.67078 0.99999776844 0.7006 0.001\n",
      "89 59.889794 0.999968601076 0.67102 0.999998095141 0.7008 0.001\n",
      "90 60.457078 0.999971703397 0.6712 0.999998373989 0.7008 0.001\n",
      "91 61.000908 0.999974500532 0.67132 0.999998611998 0.7012 0.001\n",
      "92 61.651008 0.999977022339 0.67152 0.999998815153 0.7013 0.001\n",
      "93 62.85283 0.999979295778 0.6715 0.999998988561 0.7014 0.001\n",
      "94 63.403468 0.999981345183 0.67154 0.99999913658 0.7015 0.001\n",
      "95 63.912024 0.999983192523 0.67166 0.999999262929 0.7016 0.001\n",
      "96 64.415716 0.999984857622 0.6717 0.999999370782 0.7014 0.001\n",
      "97 64.918756 0.999986358373 0.67178 0.999999462849 0.7016 0.001\n",
      "98 65.422883 0.999987710924 0.67192 0.99999954144 0.7015 0.001\n",
      "99 65.935908 0.999988929842 0.6721 0.99999960853 0.7016 0.001\n"
     ]
    }
   ],
   "source": [
    "import math,time\n",
    "from IPython.display import clear_output\n",
    "\n",
    "# Data structures for plotting\n",
    "g_i = []\n",
    "g_train_loss=[]\n",
    "g_train_acc=[]\n",
    "g_valid_loss=[]\n",
    "g_valid_acc=[]\n",
    "\n",
    "n_training, n_feature, n_label = getDimDataset(train_set)\n",
    "\n",
    "# SGD parameters\n",
    "eta = 0.001\n",
    "batch_size = 500\n",
    "n_batch = int(math.ceil(float(n_training)/batch_size))\n",
    "n_epoch = 100\n",
    "\n",
    "cumul_time = 0.\n",
    "\n",
    "# Initialize the model parameters\n",
    "W,b = init(n_feature,n_label)\n",
    "printInfo(W,b)\n",
    "\n",
    "# Convert the labels to one-hot vector\n",
    "one_hot = np.zeros((n_label,n_training))\n",
    "one_hot[train_set[1],np.arange(n_training)]=1.\n",
    "\n",
    "for i in range(n_epoch):\n",
    "    for j in range(n_batch):\n",
    "\n",
    "        ### Mini-batch creation\n",
    "        minibatch, one_hot_batch, minibatch_size = getMiniBatch(j, batch_size, train_set, one_hot)\n",
    "\n",
    "        prev_time = time.clock()\n",
    "\n",
    "        ### Forward propagation\n",
    "        Z = forward(W,b,minibatch)\n",
    "\n",
    "        ### Compute the softmax\n",
    "        out = softmax(Z)\n",
    "\n",
    "        ### Compute the gradient at the top layer\n",
    "        derror = gradient_out(out,one_hot_batch)\n",
    "\n",
    "        ### Compute the gradient w.r.t. parameters\n",
    "        grad_w,grad_b = gradient(derror, minibatch)\n",
    "\n",
    "        ### Update the parameters\n",
    "        W,b = update(eta, W, b, grad_w, grad_b)\n",
    "        \n",
    "        curr_time = time.clock()\n",
    "        cumul_time += curr_time - prev_time\n",
    "    \n",
    "    ### Training accuracy\n",
    "    train_loss, train_acc = computeLoss(W, b, train_set[0], train_set[1],softmax) \n",
    "    \n",
    "    ### Valid accuracy\n",
    "    valid_loss, valid_acc = computeLoss(W, b, valid_set[0], valid_set[1],softmax) \n",
    "\n",
    "    g_i = np.append(g_i, i)\n",
    "    g_train_loss = np.append(g_train_loss, train_loss)\n",
    "    g_train_acc = np.append(g_train_acc, train_acc)\n",
    "    g_valid_loss = np.append(g_valid_loss, valid_loss)\n",
    "    g_valid_acc = np.append(g_valid_acc, valid_acc)\n",
    "    \n",
    "    result_line = str(i) + \" \" + str(cumul_time) + \" \" + str(train_loss) + \" \" + str(train_acc) + \" \" + str(valid_loss) + \" \" + str(valid_acc) + \" \" + str(eta)\n",
    "    print(result_line)"
   ]
  },
  {
   "cell_type": "code",
   "execution_count": 104,
   "metadata": {
    "collapsed": false
   },
   "outputs": [
    {
     "data": {
      "text/plain": [
       "<matplotlib.legend.Legend at 0x7fecc1ee9b90>"
      ]
     },
     "execution_count": 104,
     "metadata": {},
     "output_type": "execute_result"
    },
    {
     "data": {
      "image/png": "[encoded data removed]",
      "text/plain": [
       "<matplotlib.figure.Figure at 0x7fecc200e890>"
      ]
     },
     "metadata": {},
     "output_type": "display_data"
    }
   ],
   "source": [
    "plt.plot(g_i,g_train_loss,label='train_loss')\n",
    "plt.plot(g_i,g_valid_loss,label='valid_loss')\n",
    "plt.xlabel(\"epoch\")\n",
    "plt.ylabel(\"Negative log-likelihood\")\n",
    "plt.legend()"
   ]
  },
  {
   "cell_type": "code",
   "execution_count": 105,
   "metadata": {
    "collapsed": false
   },
   "outputs": [
    {
     "data": {
      "text/plain": [
       "<matplotlib.legend.Legend at 0x7fecc1dbfb50>"
      ]
     },
     "execution_count": 105,
     "metadata": {},
     "output_type": "execute_result"
    },
    {
     "data": {
      "image/png": "[encoded data removed]",
      "text/plain": [
       "<matplotlib.figure.Figure at 0x7fecc1ea6bd0>"
      ]
     },
     "metadata": {},
     "output_type": "display_data"
    }
   ],
   "source": [
    "plt.plot(g_i,1.0-g_train_acc,label='train_acc')\n",
    "plt.plot(g_i,1.0-g_valid_acc,label='valid_acc')\n",
    "plt.xlabel(\"epoch\")\n",
    "plt.ylabel(\"Classification error\")\n",
    "plt.ylim([0.,1.])\n",
    "plt.legend()"
   ]
  },
  {
   "cell_type": "markdown",
   "metadata": {},
   "source": [
    "Question 10: Montrer, à l'aide d'une figure, l'effet du step-size (prendre $\\eta$=[0.01,0.1,1.0,10.]) sur les courbes d'apprentissage"
   ]
  },
  {
   "cell_type": "code",
   "execution_count": null,
   "metadata": {
    "collapsed": true
   },
   "outputs": [],
   "source": []
  },
  {
   "cell_type": "code",
   "execution_count": null,
   "metadata": {
    "collapsed": true
   },
   "outputs": [],
   "source": []
  }
 ],
 "metadata": {
  "kernelspec": {
   "display_name": "Python 2",
   "language": "python",
   "name": "python2"
  },
  "language_info": {
   "codemirror_mode": {
    "name": "ipython",
    "version": 2
   },
   "file_extension": ".py",
   "mimetype": "text/x-python",
   "name": "python",
   "nbconvert_exporter": "python",
   "pygments_lexer": "ipython2",
   "version": "2.7.13"
  }
 },
 "nbformat": 4,
 "nbformat_minor": 1
}
