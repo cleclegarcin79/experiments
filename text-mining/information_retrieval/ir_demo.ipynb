{
 "cells": [
  {
   "cell_type": "markdown",
   "metadata": {},
   "source": [
    "# Information retrieval"
   ]
  },
  {
   "cell_type": "code",
   "execution_count": 72,
   "metadata": {
    "collapsed": false
   },
   "outputs": [],
   "source": [
    "import nltk\n",
    "import string, pprint, os\n",
    "import codecs\n",
    "from sklearn.feature_extraction.text import TfidfVectorizer\n",
    "from sklearn.metrics.pairwise import cosine_similarity\n",
    "from collections import Counter\n",
    "from nltk.stem import WordNetLemmatizer\n",
    "import matplotlib.pyplot as plt \n",
    "import numpy as np\n",
    "from collections import defaultdict\n",
    "import unidecode\n",
    "import glob, re, pprint, csv\n",
    "import xml.etree.ElementTree as ET"
   ]
  },
  {
   "cell_type": "code",
   "execution_count": 2,
   "metadata": {
    "collapsed": true
   },
   "outputs": [],
   "source": [
    "DOC_DIR=\"data/texts\""
   ]
  },
  {
   "cell_type": "markdown",
   "metadata": {},
   "source": [
    "## Clexical analysis"
   ]
  },
  {
   "cell_type": "markdown",
   "metadata": {},
   "source": [
    "### Word frequency"
   ]
  },
  {
   "cell_type": "code",
   "execution_count": 3,
   "metadata": {
    "collapsed": true
   },
   "outputs": [],
   "source": [
    "def get_tokens(texts):\n",
    "    tokens = [word  for text in texts for word in nltk.word_tokenize(text)]\n",
    "    return tokens"
   ]
  },
  {
   "cell_type": "code",
   "execution_count": 4,
   "metadata": {
    "collapsed": true
   },
   "outputs": [],
   "source": [
    "def get_most_common_tokens(tokens, num):\n",
    "    count = Counter(tokens)\n",
    "    return count.most_common(num)"
   ]
  },
  {
   "cell_type": "code",
   "execution_count": 5,
   "metadata": {
    "collapsed": true
   },
   "outputs": [],
   "source": [
    "def clean_text(text):\n",
    "        lowers = text.lower() \n",
    "        no_punctuation = lowers.translate(None, string.punctuation)\n",
    "        return no_punctuation"
   ]
  },
  {
   "cell_type": "code",
   "execution_count": 6,
   "metadata": {
    "collapsed": true
   },
   "outputs": [],
   "source": [
    "def get_text(file):\n",
    "    with open(file, 'r') as d:\n",
    "        text = d.read()\n",
    "        return clean_text(text)"
   ]
  },
  {
   "cell_type": "code",
   "execution_count": 7,
   "metadata": {
    "collapsed": true
   },
   "outputs": [],
   "source": [
    "def get_texts(dir):\n",
    "    text_list , text_names = [] , []\n",
    "    for subdir, dirs, files in os.walk(dir):\n",
    "        for file in files:\n",
    "            if file.endswith(\".txt\"):\n",
    "                file_path = subdir + os.path.sep + file\n",
    "                text_list.append(get_text(file_path))\n",
    "                text_names.append(file)\n",
    "\n",
    "    return text_list"
   ]
  },
  {
   "cell_type": "code",
   "execution_count": 8,
   "metadata": {
    "collapsed": false
   },
   "outputs": [
    {
     "name": "stdout",
     "output_type": "stream",
     "text": [
      "[('sent', 7112), ('the', 4400), ('of', 2736), ('and', 2725), ('to', 2382), ('in', 1793), ('a', 1525), ('is', 981), ('that', 906), ('for', 899)]\n"
     ]
    }
   ],
   "source": [
    "texts = get_texts(DOC_DIR)\n",
    "tokens = get_tokens(texts)\n",
    "most_common = get_most_common_tokens(tokens, 10)\n",
    "print (most_common)"
   ]
  },
  {
   "cell_type": "markdown",
   "metadata": {
    "collapsed": true
   },
   "source": [
    "Clearly they are not good describtors because such words exist in all texts and won't help us differentiate different texts. We can choose better descripters by droping these stopwords and calculating again words frequency and/or use TF-IDF."
   ]
  },
  {
   "cell_type": "markdown",
   "metadata": {
    "collapsed": true
   },
   "source": [
    "### Words lemmatizing "
   ]
  },
  {
   "cell_type": "code",
   "execution_count": 38,
   "metadata": {
    "collapsed": false
   },
   "outputs": [],
   "source": [
    "def get_tokens_lem(texts):\n",
    "    wordnet_lemmatizer = WordNetLemmatizer()\n",
    "    tokens = []\n",
    "    for text in texts:\n",
    "        for word in nltk.word_tokenize(text):\n",
    "            word = word.replace(\"é\", \"e\")\n",
    "            word = word.replace(\"è\", \"e\")\n",
    "            tokens.append(wordnet_lemmatizer.lemmatize(word))\n",
    "                \n",
    "    return tokens"
   ]
  },
  {
   "cell_type": "code",
   "execution_count": 39,
   "metadata": {
    "collapsed": false
   },
   "outputs": [
    {
     "name": "stdout",
     "output_type": "stream",
     "text": [
      "[('sent', 7112), ('the', 4400), ('of', 2736), ('and', 2725), ('to', 2382), ('a', 2099), ('in', 1793), ('is', 981), ('that', 906), ('for', 899)]\n"
     ]
    }
   ],
   "source": [
    "texts = get_texts(DOC_DIR)\n",
    "tokens = get_tokens_lem(texts)\n",
    "most_common = get_most_common_tokens(tokens, 10)\n",
    "print (most_common)"
   ]
  },
  {
   "cell_type": "markdown",
   "metadata": {},
   "source": [
    "=> Words that have the same root are represented by the same word. "
   ]
  },
  {
   "cell_type": "markdown",
   "metadata": {},
   "source": [
    "### Pos tagging "
   ]
  },
  {
   "cell_type": "code",
   "execution_count": 54,
   "metadata": {
    "collapsed": true
   },
   "outputs": [],
   "source": [
    "tagged = nltk.pos_tag(tokens)"
   ]
  },
  {
   "cell_type": "code",
   "execution_count": 63,
   "metadata": {
    "collapsed": false
   },
   "outputs": [],
   "source": [
    "tags = [w[1] for w in tagged]"
   ]
  },
  {
   "cell_type": "code",
   "execution_count": 68,
   "metadata": {
    "collapsed": false
   },
   "outputs": [
    {
     "name": "stdout",
     "output_type": "stream",
     "text": [
      "[('NN', 28178)]\n"
     ]
    }
   ],
   "source": [
    "count = Counter(tags)\n",
    "print count.most_common(1)"
   ]
  },
  {
   "cell_type": "markdown",
   "metadata": {},
   "source": [
    "The most frequent category is nouns : I think it's an interesting category because nouns can bring so much value and meaning to understand a context of a text."
   ]
  },
  {
   "cell_type": "markdown",
   "metadata": {},
   "source": [
    "### Visualizations "
   ]
  },
  {
   "cell_type": "code",
   "execution_count": 70,
   "metadata": {
    "collapsed": true
   },
   "outputs": [],
   "source": [
    "freq = [token[1] for token in get_most_common_tokens(tokens, len(tokens))]"
   ]
  },
  {
   "cell_type": "code",
   "execution_count": 78,
   "metadata": {
    "collapsed": false
   },
   "outputs": [
    {
     "data": {
      "image/png": "[encoded data removed]",
      "text/plain": [
       "<matplotlib.figure.Figure at 0x7fa1834b28d0>"
      ]
     },
     "metadata": {},
     "output_type": "display_data"
    }
   ],
   "source": [
    "x,y = np.unique(freq, return_counts=True)\n",
    "plt.semilogx(x,y)\n",
    "plt.show()"
   ]
  },
  {
   "cell_type": "markdown",
   "metadata": {},
   "source": [
    "## Sequence Similarity Search"
   ]
  },
  {
   "cell_type": "markdown",
   "metadata": {},
   "source": [
    "### Terms frequency versus TFIDF\n",
    "TFIDF includes a description of both terms frequency and its presence in various documents : if a term is frequent in all documents that wouldn't help us do specific tasks. That's why TFIDF is more accurate and interstng when representing words by numeric values."
   ]
  },
  {
   "cell_type": "markdown",
   "metadata": {},
   "source": [
    "### Similarity check "
   ]
  },
  {
   "cell_type": "code",
   "execution_count": 48,
   "metadata": {
    "collapsed": true
   },
   "outputs": [],
   "source": [
    "def get_similarity(text1, text2, v):\n",
    "    t1 = v.transform([text1])\n",
    "    t2 = v.transform([text2])\n",
    "    return cosine_similarity(t1,t2)"
   ]
  },
  {
   "cell_type": "code",
   "execution_count": 49,
   "metadata": {
    "collapsed": true
   },
   "outputs": [],
   "source": [
    "def tokenize(text):\n",
    "    return nltk.word_tokenize(text)"
   ]
  },
  {
   "cell_type": "code",
   "execution_count": 50,
   "metadata": {
    "collapsed": false
   },
   "outputs": [],
   "source": [
    "v = TfidfVectorizer(tokenizer=tokenize, stop_words='english')"
   ]
  },
  {
   "cell_type": "code",
   "execution_count": 51,
   "metadata": {
    "collapsed": false
   },
   "outputs": [],
   "source": [
    "tfidfs = v.fit_transform(texts) "
   ]
  },
  {
   "cell_type": "markdown",
   "metadata": {},
   "source": [
    "#### Apply it on simple example"
   ]
  },
  {
   "cell_type": "code",
   "execution_count": 161,
   "metadata": {
    "collapsed": false
   },
   "outputs": [
    {
     "name": "stdout",
     "output_type": "stream",
     "text": [
      "0.621257578985\n"
     ]
    }
   ],
   "source": [
    "str1 = \"I don't love you\"\n",
    "str2 = 'i love computer text'\n",
    "print(get_similarity(str1,str2,v)[0][0])"
   ]
  },
  {
   "cell_type": "markdown",
   "metadata": {},
   "source": [
    "#### Apply it on questions and answers "
   ]
  },
  {
   "cell_type": "markdown",
   "metadata": {},
   "source": [
    "The idea is to calculate the similarity for each question with a certain passage of the text. Then get the best passage and compare with xml annotated file. "
   ]
  },
  {
   "cell_type": "code",
   "execution_count": 60,
   "metadata": {
    "collapsed": true
   },
   "outputs": [],
   "source": [
    "def get_texts(dir):\n",
    "    text_list , text_names = [] , []\n",
    "    for subdir, dirs, files in os.walk(dir):\n",
    "        for file in files:\n",
    "            if file.endswith(\".txt\"):\n",
    "                file_path = subdir + os.path.sep + file\n",
    "                text_list.append(get_text(file_path))\n",
    "                text_names.append(file)\n",
    "\n",
    "    return text_list, text_names"
   ]
  },
  {
   "cell_type": "code",
   "execution_count": 61,
   "metadata": {
    "collapsed": true
   },
   "outputs": [],
   "source": [
    "QT_DIR = \"data/texts\"\n",
    "ans, ans_names = get_texts(DOC_DIR)"
   ]
  },
  {
   "cell_type": "code",
   "execution_count": 62,
   "metadata": {
    "collapsed": false
   },
   "outputs": [
    {
     "name": "stdout",
     "output_type": "stream",
     "text": [
      "Number of passages : 1184\n"
     ]
    }
   ],
   "source": [
    "print \"Number of passages :\", len(ans)"
   ]
  },
  {
   "cell_type": "code",
   "execution_count": 64,
   "metadata": {
    "collapsed": true
   },
   "outputs": [],
   "source": [
    "QT_DIR = \"data/questions\"\n",
    "qt, qt_names = get_texts(QT_DIR)"
   ]
  },
  {
   "cell_type": "code",
   "execution_count": 65,
   "metadata": {
    "collapsed": false
   },
   "outputs": [
    {
     "name": "stdout",
     "output_type": "stream",
     "text": [
      "Number of questions :  160\n"
     ]
    }
   ],
   "source": [
    "print \"Number of questions : \", len(qt)"
   ]
  },
  {
   "cell_type": "code",
   "execution_count": 273,
   "metadata": {
    "collapsed": false
   },
   "outputs": [],
   "source": [
    "for q,n in zip(qt, qt_names):\n",
    "    a = []\n",
    "    for t,m in zip(ans, ans_names):\n",
    "        if m[3:m[3:].index('_')+3] == n[3:n[3:].index('_')+3]:\n",
    "\n",
    "            a.append([get_similarity(q,t,v)[0][0], \\\n",
    "                      int(m[m.index('psg')+4 : m[m.index('psg')+4:].index('_')+m.index('psg')+4]) , \\\n",
    "                    int(m[m[m.index('psg')+4:].index('_')+m.index('psg')+5:m.index('.')]) ])\n",
    "    np.savetxt(\"TPRI_qa4mre/QUESTIONS/\"+n,np.asarray(a), delimiter=',')\n",
    "    "
   ]
  },
  {
   "cell_type": "code",
   "execution_count": 192,
   "metadata": {
    "collapsed": false
   },
   "outputs": [],
   "source": [
    "QUESTION_FILE='eval/QA4MRE-2012-EN_GS_annote.xml'\n",
    "def get_refs():\n",
    "    refs=defaultdict(dict)\n",
    "    #qcm=open(\"QA4MRE-2012-EN_GS_annote.xml\", \"r\", encoding=\"utf-8\")\n",
    "    qcm_tree = ET.parse(QUESTION_FILE)\n",
    "    root=qcm_tree.getroot()\n",
    "\n",
    "    for reading_test in root.findall('.//reading-test'):       \n",
    "        for question in reading_test.findall('.//q'):\n",
    "            for rep in question.findall('.//position'):\n",
    "                refs[reading_test.attrib['r_id']][question.attrib['q_id']]=rep.attrib['rep']\n",
    "                #print(\"rt \"+reading_test.attrib['r_id']+\" q \"+question.attrib['q_id']+\" rep \"+rep.attrib['rep'])\n",
    "    return refs\n"
   ]
  },
  {
   "cell_type": "code",
   "execution_count": 323,
   "metadata": {
    "collapsed": false
   },
   "outputs": [
    {
     "name": "stdout",
     "output_type": "stream",
     "text": [
      "% of correctly answered questions =  0.603773584906\n"
     ]
    }
   ],
   "source": [
    "refs = get_refs()\n",
    "dir = 'TPRI_qa4mre/QUESTIONS/'\n",
    "score = 0\n",
    "tot = 0\n",
    "for subdir, dirs, files in os.walk(dir):\n",
    "        for file in files:\n",
    "            res_file = dir+file\n",
    "            a = np.loadtxt(dir+file, delimiter=',')\n",
    "            doc , q = res_file[25:res_file[25:].index('_')+25], \\\n",
    "                file[file.index('q')+2 : file.index('.')]\n",
    "            if doc<\"15\" and  refs[doc][q] !=\"\":\n",
    "                tot +=1\n",
    "                if int(refs[doc][q]) in range(int(a[a.argmax(axis=0)[0],1]), int(a[a.argmax(axis=0)[0],2]+1)):\n",
    "                    score +=1\n",
    "print \"% of correctly answered questions = \", score / float(tot)"
   ]
  }
 ],
 "metadata": {
  "kernelspec": {
   "display_name": "Python 2",
   "language": "python",
   "name": "python2"
  },
  "language_info": {
   "codemirror_mode": {
    "name": "ipython",
    "version": 2
   },
   "file_extension": ".py",
   "mimetype": "text/x-python",
   "name": "python",
   "nbconvert_exporter": "python",
   "pygments_lexer": "ipython2",
   "version": "2.7.12"
  }
 },
 "nbformat": 4,
 "nbformat_minor": 2
}
